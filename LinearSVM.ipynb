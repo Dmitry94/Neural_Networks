{
 "metadata": {
  "name": "",
  "signature": "sha256:e7dd132500d73b62397c0c840854c85a6077fad0b04c378b63985470b663bb64"
 },
 "nbformat": 3,
 "nbformat_minor": 0,
 "worksheets": [
  {
   "cells": [
    {
     "cell_type": "code",
     "collapsed": false,
     "input": [
      "import time\n",
      "import numpy as np\n",
      "import ciraf as cr\n",
      "import utils as ut\n",
      "\n",
      "import LinearSVM as lSVM\n",
      "from sklearn import svm as skSVM"
     ],
     "language": "python",
     "metadata": {},
     "outputs": [],
     "prompt_number": 1
    },
    {
     "cell_type": "code",
     "collapsed": false,
     "input": [
      "BATCH_SIZE = 512\n",
      "LEARNING_RATE = 0.01\n",
      "REG_LAMBDA = 0.01"
     ],
     "language": "python",
     "metadata": {},
     "outputs": [],
     "prompt_number": 2
    },
    {
     "cell_type": "code",
     "collapsed": false,
     "input": [
      "train_batches, test_batch = cr.read_ciraf_10(\"content/ciraf/cifar-10-batches-py\")"
     ],
     "language": "python",
     "metadata": {},
     "outputs": [],
     "prompt_number": 3
    },
    {
     "cell_type": "code",
     "collapsed": false,
     "input": [
      "classifier = lSVM.SVMLinearClassifier(learning_rate=LEARNING_RATE, batch_size=BATCH_SIZE, reg_lambda=REG_LAMBDA)"
     ],
     "language": "python",
     "metadata": {},
     "outputs": [],
     "prompt_number": 4
    },
    {
     "cell_type": "code",
     "collapsed": false,
     "input": [
      "# Merge batches\n",
      "train_data = train_batches[0]['data']\n",
      "train_labels = np.array(train_batches[0]['labels'])\n",
      "for i in xrange(1, len(train_batches)):\n",
      "    cur_data = train_batches[i]['data']\n",
      "    cur_labels = np.array(train_batches[i]['labels'])\n",
      "\n",
      "    train_data = np.concatenate((train_data, cur_data))\n",
      "    train_labels = np.concatenate((train_labels, cur_labels))"
     ],
     "language": "python",
     "metadata": {},
     "outputs": [],
     "prompt_number": 5
    },
    {
     "cell_type": "code",
     "collapsed": false,
     "input": [
      "# Training\n",
      "start = time.clock()\n",
      "classifier.train(train_batches[0]['data'], np.array(train_batches[0]['labels']))\n",
      "end = time.clock()\n",
      "print 'My SVM Training time = ', end - start"
     ],
     "language": "python",
     "metadata": {},
     "outputs": [
      {
       "output_type": "stream",
       "stream": "stdout",
       "text": [
        "My SVM Training time =  12.503437\n"
       ]
      }
     ],
     "prompt_number": 6
    },
    {
     "cell_type": "code",
     "collapsed": false,
     "input": [
      "# Predicting\n",
      "start = time.clock()\n",
      "predictions = classifier.predict(test_batch['data'])\n",
      "end = time.clock()\n",
      "print 'My SVM Predicting time = ', end - start"
     ],
     "language": "python",
     "metadata": {},
     "outputs": [
      {
       "output_type": "stream",
       "stream": "stdout",
       "text": [
        "My SVM Predicting time =  0.087738\n"
       ]
      }
     ],
     "prompt_number": 7
    },
    {
     "cell_type": "code",
     "collapsed": false,
     "input": [
      "accuracy = np.mean(predictions == test_batch['labels'])\n",
      "print 'My SVM Accuracy = %f' % accuracy"
     ],
     "language": "python",
     "metadata": {},
     "outputs": [
      {
       "output_type": "stream",
       "stream": "stdout",
       "text": [
        "My SVM Accuracy = 0.261500\n"
       ]
      }
     ],
     "prompt_number": 8
    },
    {
     "cell_type": "code",
     "collapsed": false,
     "input": [
      "clf = skSVM.LinearSVC()\n",
      "\n",
      "\n",
      "start = time.clock()\n",
      "clf.fit(train_data[:BATCH_SIZE], train_labels[:BATCH_SIZE])\n",
      "end = time.clock()\n",
      "print 'Sklearn SVM Training time = ', end - start\n",
      "\n",
      "\n",
      "start = time.clock()\n",
      "pr = clf.predict(test_batch['data']) \n",
      "end = time.clock()\n",
      "print 'Sklearn SVM Predicting time = ', end - start\n",
      "\n",
      "\n",
      "acc = np.mean(pr == test_batch['labels'])\n",
      "print 'Sklearn acc = ', acc"
     ],
     "language": "python",
     "metadata": {},
     "outputs": [
      {
       "output_type": "stream",
       "stream": "stdout",
       "text": [
        "Sklearn SVM Predicting time =  11.358501\n",
        "Sklearn SVM Predicting time = "
       ]
      },
      {
       "output_type": "stream",
       "stream": "stdout",
       "text": [
        " 0.094645\n",
        "Sklearn acc =  0.2334\n"
       ]
      }
     ],
     "prompt_number": 9
    }
   ],
   "metadata": {}
  }
 ]
}