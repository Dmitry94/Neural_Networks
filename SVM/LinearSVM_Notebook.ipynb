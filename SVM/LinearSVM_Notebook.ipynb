{
 "metadata": {
  "name": "",
  "signature": "sha256:3187de3f63df463567664dc34a3315215dc6af958b85155b1be705d2b753f5b0"
 },
 "nbformat": 3,
 "nbformat_minor": 0,
 "worksheets": [
  {
   "cells": [
    {
     "cell_type": "code",
     "collapsed": false,
     "input": [
      "import sys\n",
      "sys.path.append('..')\n",
      "\n",
      "import time\n",
      "import numpy as np\n",
      "import ciraf as cr\n",
      "import utils as ut\n",
      "\n",
      "import LinearSVM as lSVM\n",
      "from sklearn import svm as skSVM"
     ],
     "language": "python",
     "metadata": {},
     "outputs": [],
     "prompt_number": 1
    },
    {
     "cell_type": "code",
     "collapsed": false,
     "input": [
      "BATCH_SIZE = 256\n",
      "LEARNING_RATE = 0.01\n",
      "REG_LAMBDA = 0.01"
     ],
     "language": "python",
     "metadata": {},
     "outputs": [],
     "prompt_number": 10
    },
    {
     "cell_type": "code",
     "collapsed": false,
     "input": [
      "train_batches, test_batch = cr.read_ciraf_10(\"../content/ciraf/cifar-10-batches-py\")"
     ],
     "language": "python",
     "metadata": {},
     "outputs": [],
     "prompt_number": 11
    },
    {
     "cell_type": "code",
     "collapsed": false,
     "input": [
      "classifier = lSVM.SVMLinearClassifier(learning_rate=LEARNING_RATE, batch_size=BATCH_SIZE, reg_lambda=REG_LAMBDA)"
     ],
     "language": "python",
     "metadata": {},
     "outputs": [],
     "prompt_number": 12
    },
    {
     "cell_type": "code",
     "collapsed": false,
     "input": [
      "# Merge batches\n",
      "train_data = train_batches[0]['data']\n",
      "train_labels = np.array(train_batches[0]['labels'])\n",
      "for i in xrange(1, len(train_batches)):\n",
      "    cur_data = train_batches[i]['data']\n",
      "    cur_labels = np.array(train_batches[i]['labels'])\n",
      "\n",
      "    train_data = np.concatenate((train_data, cur_data))\n",
      "    train_labels = np.concatenate((train_labels, cur_labels))"
     ],
     "language": "python",
     "metadata": {},
     "outputs": [],
     "prompt_number": 13
    },
    {
     "cell_type": "code",
     "collapsed": false,
     "input": [
      "# Training\n",
      "start = time.clock()\n",
      "classifier.train(train_batches[0]['data'], np.array(train_batches[0]['labels']))\n",
      "end = time.clock()\n",
      "print 'My SVM Training time = ', end - start"
     ],
     "language": "python",
     "metadata": {},
     "outputs": [
      {
       "output_type": "stream",
       "stream": "stdout",
       "text": [
        "My SVM Training time =  9.502495\n"
       ]
      }
     ],
     "prompt_number": 14
    },
    {
     "cell_type": "code",
     "collapsed": false,
     "input": [
      "# Predicting\n",
      "start = time.clock()\n",
      "predictions = classifier.predict(test_batch['data'])\n",
      "end = time.clock()\n",
      "print 'My SVM Predicting time = ', end - start"
     ],
     "language": "python",
     "metadata": {},
     "outputs": [
      {
       "output_type": "stream",
       "stream": "stdout",
       "text": [
        "My SVM Predicting time =  0.141262\n"
       ]
      }
     ],
     "prompt_number": 15
    },
    {
     "cell_type": "code",
     "collapsed": false,
     "input": [
      "accuracy = np.mean(predictions == test_batch['labels'])\n",
      "print 'My SVM Accuracy = %f' % accuracy"
     ],
     "language": "python",
     "metadata": {},
     "outputs": [
      {
       "output_type": "stream",
       "stream": "stdout",
       "text": [
        "My SVM Accuracy = 0.257400\n"
       ]
      }
     ],
     "prompt_number": 16
    },
    {
     "cell_type": "code",
     "collapsed": false,
     "input": [
      "clf = skSVM.LinearSVC()\n",
      "\n",
      "\n",
      "start = time.clock()\n",
      "clf.fit(train_data[:BATCH_SIZE], train_labels[:BATCH_SIZE])\n",
      "end = time.clock()\n",
      "print 'Sklearn SVM Training time = ', end - start\n",
      "\n",
      "\n",
      "start = time.clock()\n",
      "pr = clf.predict(test_batch['data']) \n",
      "end = time.clock()\n",
      "print 'Sklearn SVM Predicting time = ', end - start\n",
      "\n",
      "\n",
      "acc = np.mean(pr == test_batch['labels'])\n",
      "print 'Sklearn acc = ', acc"
     ],
     "language": "python",
     "metadata": {},
     "outputs": [
      {
       "output_type": "stream",
       "stream": "stdout",
       "text": [
        "Sklearn SVM Training time =  9.428972\n",
        "Sklearn SVM Predicting time = "
       ]
      },
      {
       "output_type": "stream",
       "stream": "stdout",
       "text": [
        " 0.148439\n",
        "Sklearn acc =  0.2259\n"
       ]
      }
     ],
     "prompt_number": 17
    },
    {
     "cell_type": "code",
     "collapsed": false,
     "input": [],
     "language": "python",
     "metadata": {},
     "outputs": []
    }
   ],
   "metadata": {}
  }
 ]
}