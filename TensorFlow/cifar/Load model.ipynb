{
 "cells": [
  {
   "cell_type": "code",
   "execution_count": 40,
   "metadata": {
    "collapsed": true
   },
   "outputs": [],
   "source": [
    "import tensorflow as tf"
   ]
  },
  {
   "cell_type": "code",
   "execution_count": 41,
   "metadata": {
    "collapsed": false
   },
   "outputs": [
    {
     "name": "stdout",
     "output_type": "stream",
     "text": [
      "Using matplotlib backend: TkAgg\n",
      "Populating the interactive namespace from numpy and matplotlib\n"
     ]
    }
   ],
   "source": [
    "%pylab"
   ]
  },
  {
   "cell_type": "code",
   "execution_count": 90,
   "metadata": {
    "collapsed": false
   },
   "outputs": [],
   "source": [
    "import h5py"
   ]
  },
  {
   "cell_type": "code",
   "execution_count": 91,
   "metadata": {
    "collapsed": false
   },
   "outputs": [],
   "source": [
    "df = h5py.File('../../content/ciraf/hdf5/train.hdf5', 'r')"
   ]
  },
  {
   "cell_type": "code",
   "execution_count": 92,
   "metadata": {
    "collapsed": false
   },
   "outputs": [
    {
     "data": {
      "text/plain": [
       "(50000, 32, 32, 3)"
      ]
     },
     "execution_count": 92,
     "metadata": {},
     "output_type": "execute_result"
    }
   ],
   "source": [
    "df['data'].shape"
   ]
  },
  {
   "cell_type": "code",
   "execution_count": 149,
   "metadata": {
    "collapsed": false,
    "scrolled": true
   },
   "outputs": [],
   "source": [
    "num_samples = 1\n",
    "\n",
    "image = df[\"data\"][:num_samples].astype('float32')\n",
    "label = df[\"labels\"][:num_samples].astype('int32')"
   ]
  },
  {
   "cell_type": "code",
   "execution_count": 150,
   "metadata": {
    "collapsed": false
   },
   "outputs": [
    {
     "name": "stdout",
     "output_type": "stream",
     "text": [
      "events.out.tfevents.1492783673.pandora\r\n"
     ]
    }
   ],
   "source": [
    "ls cifar10_train/"
   ]
  },
  {
   "cell_type": "code",
   "execution_count": 151,
   "metadata": {
    "collapsed": false
   },
   "outputs": [
    {
     "name": "stdout",
     "output_type": "stream",
     "text": [
      "INFO:tensorflow:Restoring parameters from cifar10_train/model.ckpt-1000\n",
      "Tensor(\"logits/BiasAdd:0\", shape=(?, 10), dtype=float32) Tensor(\"sparse_softmax_cross_entropy_loss/value:0\", shape=(), dtype=float32) Tensor(\"images:0\", shape=(?, 24, 24, 3), dtype=float32) Tensor(\"labels:0\", shape=(?,), dtype=int32)\n",
      "[array([[-1.85206723, -2.23691177,  0.52425045,  2.89974356,  1.26410627,\n",
      "         0.83850312,  5.38578224,  0.0702499 , -3.15973163, -3.00593972]], dtype=float32), 0.11719158]\n"
     ]
    }
   ],
   "source": [
    "ckpt_path = tf.train.latest_checkpoint('cifar10_train/')\n",
    "\n",
    "tf.reset_default_graph()\n",
    "sess = tf.InteractiveSession()\n",
    "saver = tf.train.import_meta_graph(ckpt_path + '.meta')\n",
    "saver.restore(sess, ckpt_path)\n",
    "\n",
    "graph = tf.get_default_graph()\n",
    "\n",
    "logits = tf.get_collection(\"logits\")[0]\n",
    "loss = tf.get_collection(tf.GraphKeys.LOSSES)[0]\n",
    "images, labels = tf.get_collection('inputs')\n",
    "\n",
    "print logits, loss, images, labels\n",
    "\n",
    "im_preproc = (\n",
    "    (image - np.mean(image, axis=(1, 2, 3), keepdims=True)) / 255.0\n",
    ")[:, 4:28, 4:28]\n",
    "\n",
    "\n",
    "print sess.run(\n",
    "    [logits, loss],\n",
    "    {\n",
    "        'images:0': im_preproc,\n",
    "        'labels:0': label\n",
    "    }\n",
    ")"
   ]
  },
  {
   "cell_type": "code",
   "execution_count": null,
   "metadata": {
    "collapsed": true
   },
   "outputs": [],
   "source": []
  }
 ],
 "metadata": {
  "kernelspec": {
   "display_name": "Python 2",
   "language": "python",
   "name": "python2"
  },
  "language_info": {
   "codemirror_mode": {
    "name": "ipython",
    "version": 2
   },
   "file_extension": ".py",
   "mimetype": "text/x-python",
   "name": "python",
   "nbconvert_exporter": "python",
   "pygments_lexer": "ipython2",
   "version": "2.7.6"
  }
 },
 "nbformat": 4,
 "nbformat_minor": 0
}
